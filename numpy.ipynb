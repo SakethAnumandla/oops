{
 "cells": [
  {
   "cell_type": "code",
   "execution_count": 1,
   "id": "0d60fc96-930e-4292-8768-af1dc38e01ee",
   "metadata": {},
   "outputs": [],
   "source": [
    "import numpy as np"
   ]
  },
  {
   "cell_type": "markdown",
   "id": "75578843-1094-4ceb-92af-a9088a9506c8",
   "metadata": {},
   "source": [
    "Array Operations and Broadcasting"
   ]
  },
  {
   "cell_type": "code",
   "execution_count": 10,
   "id": "d78a48b8-f280-4533-9981-d7881bb91aca",
   "metadata": {},
   "outputs": [
    {
     "name": "stdout",
     "output_type": "stream",
     "text": [
      "Array a:\n",
      "[[[0.67727261 0.01824466 0.13585268 0.78159169]\n",
      "  [0.49840248 0.46386531 0.25630503 0.35426916]\n",
      "  [0.11296768 0.65424204 0.48598414 0.95650154]]\n",
      "\n",
      " [[0.21456855 0.57174673 0.06612506 0.16846335]\n",
      "  [0.29002785 0.26696179 0.85853089 0.30373012]\n",
      "  [0.89997564 0.90590538 0.72986804 0.05866793]]]\n",
      "\n",
      "Array b:\n",
      "[[0.02870555 0.12798423 0.68843115 0.65857164]\n",
      " [0.3523478  0.24961757 0.99801306 0.27399808]\n",
      " [0.06243159 0.14890315 0.53557877 0.03160672]]\n",
      "\n",
      "Result of element-wise multiplication:\n",
      "[[[0.01944148 0.00233503 0.09352522 0.51473412]\n",
      "  [0.17561102 0.11578893 0.25579577 0.09706907]\n",
      "  [0.00705275 0.0974187  0.26028279 0.03023188]]\n",
      "\n",
      " [[0.00615931 0.07317457 0.04552255 0.11094519]\n",
      "  [0.10219067 0.06663835 0.85682504 0.08322147]\n",
      "  [0.05618691 0.13489216 0.39090182 0.0018543 ]]]\n"
     ]
    }
   ],
   "source": [
    "#Given a 3D array a with shape (2, 3, 4) and a 2D array b with shape (3, 4), perform element-wise multiplication between a and b using broadcasting\n",
    "a = np.random.rand(2, 3, 4)\n",
    "b = np.random.rand(3, 4)\n",
    "\n",
    "result = a * b\n",
    "\n",
    "print(\"Array a:\")\n",
    "print(a)\n",
    "print(\"\\nArray b:\")\n",
    "print(b)\n",
    "print(\"\\nResult of element-wise multiplication:\")\n",
    "print(result)\n"
   ]
  },
  {
   "cell_type": "code",
   "execution_count": 19,
   "id": "df00110f-24fd-4507-9ec4-7988cd262216",
   "metadata": {},
   "outputs": [
    {
     "name": "stdout",
     "output_type": "stream",
     "text": [
      "Array c:\n",
      "[[0.19160847 0.40002268 0.65683675]\n",
      " [0.57422251 0.53985553 0.75615126]]\n",
      "\n",
      "Array d:\n",
      "[[0.93928526]\n",
      " [0.95455955]\n",
      " [0.46311139]]\n",
      "\n",
      "Error: operands could not be broadcast together with shapes (2,3) (3,1) \n"
     ]
    }
   ],
   "source": [
    "#Implement a function that takes two 2D arrays c and d with different shapes and performs element-wise operations (addition, subtraction, multiplication, and division) between them using broadcasting. Handle the case where broadcasting is not possible\n",
    "\n",
    "def elementwise_operations(c, d):\n",
    "    try:\n",
    "        # Perform element-wise addition using broadcasting\n",
    "        addition = c + d\n",
    "        \n",
    "        # Perform element-wise subtraction using broadcasting\n",
    "        subtraction = c - d\n",
    "        \n",
    "        # Perform element-wise multiplication using broadcasting\n",
    "        multiplication = c * d\n",
    "        \n",
    "        # Perform element-wise division using broadcasting\n",
    "        division = c / d\n",
    "        \n",
    "        return addition, subtraction, multiplication, division, None\n",
    "    except ValueError as e:\n",
    "        return None, None, None, None, str(e)\n",
    "\n",
    "# Example usage:\n",
    "c = np.random.rand(2, 3)\n",
    "d = np.random.rand(3, 1)\n",
    "\n",
    "addition, subtraction, multiplication, division, error = elementwise_operations(c, d)\n",
    "\n",
    "print(\"Array c:\")\n",
    "print(c)\n",
    "print(\"\\nArray d:\")\n",
    "print(d)\n",
    "\n",
    "if error is None:\n",
    "    print(\"\\nAddition result:\")\n",
    "    print(addition)\n",
    "    print(\"\\nSubtraction result:\")\n",
    "    print(subtraction)\n",
    "    print(\"\\nMultiplication result:\")\n",
    "    print(multiplication)\n",
    "    print(\"\\nDivision result:\")\n",
    "    print(division)\n",
    "else:\n",
    "    print(\"\\nError:\", error)\n",
    "\n",
    "\n",
    "\n",
    "\n"
   ]
  },
  {
   "cell_type": "code",
   "execution_count": 23,
   "id": "3d5a975c-ad1a-472a-a9f0-096dd8f0ffe0",
   "metadata": {},
   "outputs": [
    {
     "name": "stdout",
     "output_type": "stream",
     "text": [
      "Array e:\n",
      "[[0.19656889 0.45254956 0.17293764]\n",
      " [0.16840195 0.1045495  0.35885306]\n",
      " [0.3464704  0.3365644  0.07024485]\n",
      " [0.9660567  0.7253117  0.3602451 ]\n",
      " [0.89912931 0.84094149 0.17162536]]\n",
      "\n",
      "Array f:\n",
      "[0.43896552 0.33095109 0.71245541 0.68396345 0.90749622]\n",
      "\n",
      "Reshaped Array f:\n",
      "[[0.43896552]\n",
      " [0.33095109]\n",
      " [0.71245541]\n",
      " [0.68396345]\n",
      " [0.90749622]]\n",
      "\n",
      "Outer Product:\n",
      "[[0.08628696 0.19865365 0.07591366]\n",
      " [0.05573281 0.03460077 0.11876281]\n",
      " [0.24684471 0.23978713 0.05004633]\n",
      " [0.66074748 0.49608669 0.24639448]\n",
      " [0.81595645 0.76315122 0.15574937]]\n"
     ]
    }
   ],
   "source": [
    "#Create a 2D array e with shape (5, 3) and a 1D array f with length 5. Compute the outer product of e and f using broadcasting.\n",
    "e = np.random.rand(5, 3)\n",
    "\n",
    "\n",
    "f = np.random.rand(5)\n",
    "f_reshaped = f[:, np.newaxis]  \n",
    "\n",
    "outer_product = e * f_reshaped\n",
    "\n",
    "print(\"Array e:\")\n",
    "print(e)\n",
    "print(\"\\nArray f:\")\n",
    "print(f)\n",
    "print(\"\\nReshaped Array f:\")\n",
    "print(f_reshaped)\n",
    "print(\"\\nOuter Product:\")\n",
    "print(outer_product)\n"
   ]
  },
  {
   "cell_type": "markdown",
   "id": "fe9285d0-78a1-4bee-826a-d61fbb88cbe8",
   "metadata": {},
   "source": [
    "Indexing and Slicing"
   ]
  },
  {
   "cell_type": "code",
   "execution_count": 25,
   "id": "991f490c-8e0f-49fc-9a5a-d894c8bdbc7e",
   "metadata": {},
   "outputs": [
    {
     "name": "stdout",
     "output_type": "stream",
     "text": [
      "Original array g:\n",
      "[[[0.14601574 0.55545229]\n",
      "  [0.60039299 0.79189487]\n",
      "  [0.06298864 0.28268461]]\n",
      "\n",
      " [[0.77491108 0.72367613]\n",
      "  [0.36949518 0.90436148]\n",
      "  [0.17591243 0.22472219]]\n",
      "\n",
      " [[0.41111636 0.43121626]\n",
      "  [0.84667231 0.97176733]\n",
      "  [0.56251489 0.66947352]]\n",
      "\n",
      " [[0.41011966 0.14560015]\n",
      "  [0.65074645 0.85962186]\n",
      "  [0.34253942 0.08649406]]]\n",
      "\n",
      "Extracted array g (every other element along first and second dimensions):\n",
      "[[[0.14601574 0.55545229]\n",
      "  [0.06298864 0.28268461]]\n",
      "\n",
      " [[0.41111636 0.43121626]\n",
      "  [0.56251489 0.66947352]]]\n"
     ]
    }
   ],
   "source": [
    "#Given a 3D array g with shape (4, 3, 2), extract every other element along the first and second dimensions, but keep all elements along the third dimension\n",
    "\n",
    "g = np.random.rand(4, 3, 2)\n",
    "\n",
    "extracted_g = g[::2, ::2, :]\n",
    "\n",
    "print(\"Original array g:\")\n",
    "print(g)\n",
    "print(\"\\nExtracted array g (every other element along first and second dimensions):\")\n",
    "print(extracted_g)\n"
   ]
  },
  {
   "cell_type": "code",
   "execution_count": 27,
   "id": "4053d46e-2dd6-4756-a9c5-86d1fef77546",
   "metadata": {},
   "outputs": [
    {
     "name": "stdout",
     "output_type": "stream",
     "text": [
      "Array h:\n",
      "[[0.78517088 0.86477069 0.34215401 0.15338571 0.04026779]\n",
      " [0.35774024 0.81562797 0.3154014  0.53669831 0.73529543]\n",
      " [0.57586466 0.82092955 0.79823997 0.55257075 0.56521015]\n",
      " [0.50885484 0.16774046 0.80279106 0.06136221 0.2687065 ]\n",
      " [0.02332828 0.25321215 0.83382136 0.06241115 0.59474004]]\n",
      "\n",
      "Row indices i:\n",
      "[0 1 2]\n",
      "\n",
      "Column indices j:\n",
      "[1 2 3]\n",
      "\n",
      "Resulting array k (sums of diagonals):\n",
      "[[2.00144934 1.44406248 0.88868114]\n",
      " [3.05514107 2.00144934 1.44406248]\n",
      " [2.043872   3.05514107 2.00144934]]\n"
     ]
    }
   ],
   "source": [
    "#Create a function that takes a 2D array h and an array of row indices i and column indices j. The function should return a new array k where k[m, n] is the sum of the elements in h along the diagonal specified by i[m] and j[n].\n",
    "def diagonal_sums(h, i, j):\n",
    "    k = np.zeros((len(i), len(j)))\n",
    "    for m in range(len(i)):\n",
    "        for n in range(len(j)):\n",
    "            k[m, n] = np.sum(np.diagonal(h, offset=(j[n] - i[m])))\n",
    "    return k\n",
    "\n",
    "h = np.random.rand(5, 5)\n",
    "i = np.array([0, 1, 2])\n",
    "j = np.array([1, 2, 3])\n",
    "\n",
    "k = diagonal_sums(h, i, j)\n",
    "\n",
    "print(\"Array h:\")\n",
    "print(h)\n",
    "print(\"\\nRow indices i:\")\n",
    "print(i)\n",
    "print(\"\\nColumn indices j:\")\n",
    "print(j)\n",
    "print(\"\\nResulting array k (sums of diagonals):\")\n",
    "print(k)\n"
   ]
  },
  {
   "cell_type": "code",
   "execution_count": 29,
   "id": "b73af7a9-019c-4dab-a8cb-13ee08816281",
   "metadata": {},
   "outputs": [
    {
     "name": "stdout",
     "output_type": "stream",
     "text": [
      "Array l:\n",
      "[[0.24133099 0.65501308 0.09243437 0.49667617 0.9411487 ]\n",
      " [0.62309995 0.80603684 0.55596756 0.97502599 0.62352834]\n",
      " [0.83081214 0.81024016 0.68982673 0.90983797 0.89408865]\n",
      " [0.48775342 0.6965042  0.87458691 0.82241154 0.55582608]]\n",
      "\n",
      "Row means:\n",
      "[0.48532066 0.71673173 0.82696113 0.68741643]\n",
      "\n",
      "Column means:\n",
      "[0.54574912 0.74194857 0.55320389 0.80098792 0.75364794]\n",
      "\n",
      "Resulting array m (product of row and column means):\n",
      "[[0.26486333 0.36008297 0.26848128 0.38873599 0.36576092]\n",
      " [0.39115572 0.53177809 0.39649878 0.57409346 0.5401634 ]\n",
      " [0.45131331 0.61356263 0.45747811 0.66238587 0.62323755]\n",
      " [0.37515691 0.51002763 0.38028144 0.55061225 0.51806997]]\n"
     ]
    }
   ],
   "source": [
    "#Implement a function that takes a 2D array l and returns a new array m where each element in m is the product of the corresponding row and column means in l.\n",
    "def row_col_mean_product(l):\n",
    "    row_means = np.mean(l, axis=1, keepdims=True)\n",
    "    col_means = np.mean(l, axis=0, keepdims=True)\n",
    "    m = row_means * col_means\n",
    "    return m\n",
    "l = np.random.rand(4, 5)\n",
    "\n",
    "m = row_col_mean_product(l)\n",
    "\n",
    "print(\"Array l:\")\n",
    "print(l)\n",
    "print(\"\\nRow means:\")\n",
    "print(np.mean(l, axis=1))\n",
    "print(\"\\nColumn means:\")\n",
    "print(np.mean(l, axis=0))\n",
    "print(\"\\nResulting array m (product of row and column means):\")\n",
    "print(m)\n"
   ]
  },
  {
   "cell_type": "markdown",
   "id": "c6bdc3c9-1688-48ba-97c9-d78853872883",
   "metadata": {},
   "source": [
    "Array Manipulation"
   ]
  },
  {
   "cell_type": "code",
   "execution_count": 31,
   "id": "3718b9a1-6681-461e-b338-b161e6d651cb",
   "metadata": {},
   "outputs": [
    {
     "name": "stdout",
     "output_type": "stream",
     "text": [
      "Original 2D array n:\n",
      "[[0.45938389 0.14427883 0.12349357 0.63537308 0.0244478  0.55816079]\n",
      " [0.64421133 0.29060806 0.4014869  0.34192625 0.78779635 0.06871253]\n",
      " [0.3016512  0.71796709 0.08681608 0.54636608 0.95036154 0.49099812]\n",
      " [0.91415012 0.72980478 0.71133844 0.04919384 0.59208304 0.21808593]]\n",
      "\n",
      "Reshaped to 3D array (2, 2, 6):\n",
      "[[[0.45938389 0.14427883 0.12349357 0.63537308 0.0244478  0.55816079]\n",
      "  [0.64421133 0.29060806 0.4014869  0.34192625 0.78779635 0.06871253]]\n",
      "\n",
      " [[0.3016512  0.71796709 0.08681608 0.54636608 0.95036154 0.49099812]\n",
      "  [0.91415012 0.72980478 0.71133844 0.04919384 0.59208304 0.21808593]]]\n",
      "\n",
      "Flattened back to 2D array (4, 6):\n",
      "[[0.45938389 0.14427883 0.12349357 0.63537308 0.0244478  0.55816079]\n",
      " [0.64421133 0.29060806 0.4014869  0.34192625 0.78779635 0.06871253]\n",
      " [0.3016512  0.71796709 0.08681608 0.54636608 0.95036154 0.49099812]\n",
      " [0.91415012 0.72980478 0.71133844 0.04919384 0.59208304 0.21808593]]\n"
     ]
    }
   ],
   "source": [
    "#Given a 2D array n with shape (4, 6), reshape it into a 3D array with shape (2, 2, 6) and then flatten it back to a 2D array with shape (4, 6).\n",
    "import numpy as np\n",
    "\n",
    "n = np.random.rand(4, 6)\n",
    "\n",
    "n_reshaped = n.reshape(2, 2, 6)\n",
    "\n",
    "n_flattened = n_reshaped.reshape(4, 6)\n",
    "\n",
    "print(\"Original 2D array n:\")\n",
    "print(n)\n",
    "print(\"\\nReshaped to 3D array (2, 2, 6):\")\n",
    "print(n_reshaped)\n",
    "print(\"\\nFlattened back to 2D array (4, 6):\")\n",
    "print(n_flattened)\n"
   ]
  },
  {
   "cell_type": "code",
   "execution_count": 33,
   "id": "cc710766-0c9d-4d71-9c46-f7807094e24c",
   "metadata": {},
   "outputs": [
    {
     "name": "stdout",
     "output_type": "stream",
     "text": [
      "Original array o:\n",
      "[[ 1  2  3]\n",
      " [ 4  5  6]\n",
      " [ 7  8  9]\n",
      " [10 11 12]]\n",
      "\n",
      "Rolled array o by 1 position:\n",
      "[[10 11 12]\n",
      " [ 1  2  3]\n",
      " [ 4  5  6]\n",
      " [ 7  8  9]]\n"
     ]
    }
   ],
   "source": [
    "#Implement a function that takes a 2D array o and rolls it along the first axis by a specified number of positions. For example, if the input array is [[1, 2, 3], [4, 5, 6]] and the number of positions is 1, the output should be [[4, 5, 6], [1, 2, 3]].\n",
    "def roll_array(o, positions):\n",
    "    return np.roll(o, positions, axis=0)\n",
    "o = np.array([[1, 2, 3], [4, 5, 6], [7, 8, 9], [10, 11, 12]])\n",
    "positions = 1\n",
    "\n",
    "rolled_o = roll_array(o, positions)\n",
    "\n",
    "print(\"Original array o:\")\n",
    "print(o)\n",
    "print(\"\\nRolled array o by 1 position:\")\n",
    "print(rolled_o)\n"
   ]
  },
  {
   "cell_type": "code",
   "execution_count": 35,
   "id": "09bead97-2181-4c38-a364-e9b5b3cd4f61",
   "metadata": {},
   "outputs": [
    {
     "name": "stdout",
     "output_type": "stream",
     "text": [
      "Original array p:\n",
      "[[ 1  2  3]\n",
      " [ 4  9  6]\n",
      " [ 7  9  9]\n",
      " [10 11 12]]\n",
      "\n",
      "Array p with occurrences of 9 replaced by the mean of neighboring elements:\n",
      "[[ 1  2  3]\n",
      " [ 4  5  6]\n",
      " [ 7  9  9]\n",
      " [10 11 12]]\n"
     ]
    }
   ],
   "source": [
    "#Create a function that takes a 2D array p and replaces all occurrences of a specified value x with the mean of the neighboring elements (horizontally and vertically) in the array\n",
    "def replace_with_mean(p, x):\n",
    "  \n",
    "    rows, cols = p.shape\n",
    "\n",
    "    result = np.copy(p)\n",
    "    \n",
    "  \n",
    "    for i in range(rows):\n",
    "        for j in range(cols):\n",
    "            if p[i, j] == x:\n",
    "                neighbors = []\n",
    "                if i > 0:\n",
    "                    neighbors.append(p[i-1, j])\n",
    "                if i < rows - 1:\n",
    "                    neighbors.append(p[i+1, j])\n",
    "                if j > 0:\n",
    "                    neighbors.append(p[i, j-1])\n",
    "                if j < cols - 1:\n",
    "                    neighbors.append(p[i, j+1])\n",
    "                if neighbors:\n",
    "                    result[i, j] = np.mean(neighbors)\n",
    "    \n",
    "    return result\n",
    "\n",
    "p = np.array([[1, 2, 3], [4, 9, 6], [7, 9, 9], [10, 11, 12]])\n",
    "x = 9\n",
    "\n",
    "replaced_p = replace_with_mean(p, x)\n",
    "\n",
    "print(\"Original array p:\")\n",
    "print(p)\n",
    "print(\"\\nArray p with occurrences of 9 replaced by the mean of neighboring elements:\")\n",
    "print(replaced_p)\n",
    "\n"
   ]
  },
  {
   "cell_type": "code",
   "execution_count": null,
   "id": "1577dd0e-397f-44fd-97a2-3592c7b40d4f",
   "metadata": {},
   "outputs": [],
   "source": []
  }
 ],
 "metadata": {
  "kernelspec": {
   "display_name": "Python 3 (ipykernel)",
   "language": "python",
   "name": "python3"
  },
  "language_info": {
   "codemirror_mode": {
    "name": "ipython",
    "version": 3
   },
   "file_extension": ".py",
   "mimetype": "text/x-python",
   "name": "python",
   "nbconvert_exporter": "python",
   "pygments_lexer": "ipython3",
   "version": "3.11.7"
  }
 },
 "nbformat": 4,
 "nbformat_minor": 5
}
