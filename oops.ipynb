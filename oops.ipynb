{
  "nbformat": 4,
  "nbformat_minor": 0,
  "metadata": {
    "colab": {
      "provenance": []
    },
    "kernelspec": {
      "name": "python3",
      "display_name": "Python 3"
    },
    "language_info": {
      "name": "python"
    }
  },
  "cells": [
    {
      "cell_type": "code",
      "source": [
        "from datetime import datetime\n",
        "\n",
        "class Person:\n",
        "    def __init__(self, name, country, date_of_birth):\n",
        "        self.name = name\n",
        "        self.country = country\n",
        "        self.date_of_birth = datetime.strptime(date_of_birth, \"%Y-%m-%d\")\n",
        "\n",
        "    def get_age(self):\n",
        "        today = datetime.today()\n",
        "        age = today.year - self.date_of_birth.year\n",
        "        if today.month < self.date_of_birth.month or (today.month == self.date_of_birth.month and today.day < self.date_of_birth.day):\n",
        "            age -= 1\n",
        "        return age\n",
        "\n",
        "    def __str__(self):\n",
        "        return f\"Name: {self.name}, Country: {self.country}, Date of Birth: {self.date_of_birth.date()}\"\n",
        "\n",
        "# Example usage\n",
        "person = Person(\"John Doe\", \"USA\", \"1990-05-15\")\n",
        "print(person)\n",
        "print(f\"{person.name} is {person.get_age()} years old.\")\n"
      ],
      "metadata": {
        "id": "p0_qEBNwEVsy",
        "colab": {
          "base_uri": "https://localhost:8080/"
        },
        "outputId": "00565b60-1639-4850-ebf4-aad757f23a5d"
      },
      "execution_count": 5,
      "outputs": [
        {
          "output_type": "stream",
          "name": "stdout",
          "text": [
            "Name: John Doe, Country: USA, Date of Birth: 1990-05-15\n",
            "John Doe is 34 years old.\n"
          ]
        }
      ]
    },
    {
      "cell_type": "code",
      "source": [
        "from abc import ABC, abstractmethod\n",
        "import math\n",
        "\n",
        "class Shape(ABC):\n",
        "    @abstractmethod\n",
        "    def area(self):\n",
        "        pass\n",
        "\n",
        "    @abstractmethod\n",
        "    def perimeter(self):\n",
        "        pass\n",
        "\n",
        "class Circle(Shape):\n",
        "    def __init__(self, radius):\n",
        "        self.radius = radius\n",
        "\n",
        "    def area(self):\n",
        "        return math.pi * (self.radius ** 2)\n",
        "\n",
        "    def perimeter(self):\n",
        "        return 2 * math.pi * self.radius\n",
        "\n",
        "    def __str__(self):\n",
        "        return f\"Circle with radius {self.radius}\"\n",
        "\n",
        "class Triangle(Shape):\n",
        "    def __init__(self, a, b, c):\n",
        "        self.a = a\n",
        "        self.b = b\n",
        "        self.c = c\n",
        "\n",
        "    def area(self):\n",
        "        # Using Heron's formula\n",
        "        s = (self.a + self.b + self.c) / 2\n",
        "        return math.sqrt(s * (s - self.a) * (s - self.b) * (s - self.c))\n",
        "\n",
        "    def perimeter(self):\n",
        "        return self.a + self.b + self.c\n",
        "\n",
        "    def __str__(self):\n",
        "        return f\"Triangle with sides {self.a}, {self.b}, {self.c}\"\n",
        "\n",
        "class Square(Shape):\n",
        "    def __init__(self, side):\n",
        "        self.side = side\n",
        "\n",
        "    def area(self):\n",
        "        return self.side ** 2\n",
        "\n",
        "    def perimeter(self):\n",
        "        return 4 * self.side\n",
        "\n",
        "    def __str__(self):\n",
        "        return f\"Square with side {self.side}\"\n",
        "\n",
        "# Example usage\n",
        "shapes = [\n",
        "    Circle(5),\n",
        "    Triangle(3, 4, 5),\n",
        "    Square(4)\n",
        "]\n",
        "\n",
        "for shape in shapes:\n",
        "    print(shape)\n",
        "    print(f\"Area: {shape.area()}\")\n",
        "    print(f\"Perimeter: {shape.perimeter()}\\n\")\n"
      ],
      "metadata": {
        "colab": {
          "base_uri": "https://localhost:8080/"
        },
        "id": "lRUsqXyjF2Xi",
        "outputId": "ac960e32-1691-4b22-d41b-02714d31e90c"
      },
      "execution_count": 6,
      "outputs": [
        {
          "output_type": "stream",
          "name": "stdout",
          "text": [
            "Circle with radius 5\n",
            "Area: 78.53981633974483\n",
            "Perimeter: 31.41592653589793\n",
            "\n",
            "Triangle with sides 3, 4, 5\n",
            "Area: 6.0\n",
            "Perimeter: 12\n",
            "\n",
            "Square with side 4\n",
            "Area: 16\n",
            "Perimeter: 16\n",
            "\n"
          ]
        }
      ]
    },
    {
      "cell_type": "code",
      "source": [
        "class Calculator:\n",
        "    def add(self, a, b):\n",
        "        return a + b\n",
        "\n",
        "    def subtract(self, a, b):\n",
        "        return a - b\n",
        "\n",
        "    def multiply(self, a, b):\n",
        "        return a * b\n",
        "\n",
        "    def divide(self, a, b):\n",
        "        if b == 0:\n",
        "            return \"Error: Division by zero\"\n",
        "        return a / b\n",
        "\n",
        "# Example usage\n",
        "calc = Calculator()\n",
        "\n",
        "print(\"Addition: 10 + 5 =\", calc.add(10, 5))\n",
        "print(\"Subtraction: 10 - 5 =\", calc.subtract(10, 5))\n",
        "print(\"Multiplication: 10 * 5 =\", calc.multiply(10, 5))\n",
        "print(\"Division: 10 / 5 =\", calc.divide(10, 5))\n",
        "print(\"Division by zero: 10 / 0 =\", calc.divide(10, 0))\n"
      ],
      "metadata": {
        "colab": {
          "base_uri": "https://localhost:8080/"
        },
        "id": "_OA_0ppyF32R",
        "outputId": "489daa4f-11ae-46d2-e7a3-a82da5dd5956"
      },
      "execution_count": 7,
      "outputs": [
        {
          "output_type": "stream",
          "name": "stdout",
          "text": [
            "Addition: 10 + 5 = 15\n",
            "Subtraction: 10 - 5 = 5\n",
            "Multiplication: 10 * 5 = 50\n",
            "Division: 10 / 5 = 2.0\n",
            "Division by zero: 10 / 0 = Error: Division by zero\n"
          ]
        }
      ]
    }
  ]
}