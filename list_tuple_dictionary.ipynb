{
  "nbformat": 4,
  "nbformat_minor": 0,
  "metadata": {
    "colab": {
      "provenance": []
    },
    "kernelspec": {
      "name": "python3",
      "display_name": "Python 3"
    },
    "language_info": {
      "name": "python"
    }
  },
  "cells": [
    {
      "cell_type": "code",
      "execution_count": 1,
      "metadata": {
        "colab": {
          "base_uri": "https://localhost:8080/"
        },
        "id": "k6ZKvtM78jLy",
        "outputId": "fb82a736-f6dd-419c-9411-fb6559a94963"
      },
      "outputs": [
        {
          "output_type": "stream",
          "name": "stdout",
          "text": [
            "Original list: [1, 2, 3, 4, 5]\n",
            "First element: 1\n",
            "Modified list: [1, 2, 10, 4, 5]\n",
            "List after appending: [1, 2, 10, 4, 5, 6]\n",
            "List after removing an element: [1, 2, 4, 5, 6]\n",
            "List element: 1\n",
            "List element: 2\n",
            "List element: 4\n",
            "List element: 5\n",
            "List element: 6\n",
            "List of squares: [0, 1, 4, 9, 16, 25]\n"
          ]
        }
      ],
      "source": [
        "\n",
        "my_list = [1, 2, 3, 4, 5]\n",
        "print(\"Original list:\", my_list)\n",
        "\n",
        "# Accessing elements\n",
        "print(\"First element:\", my_list[0])\n",
        "\n",
        "# Modifying elements\n",
        "my_list[2] = 10\n",
        "print(\"Modified list:\", my_list)\n",
        "\n",
        "# Adding elements\n",
        "my_list.append(6)\n",
        "print(\"List after appending:\", my_list)\n",
        "\n",
        "# Removing elements\n",
        "my_list.remove(10)\n",
        "print(\"List after removing an element:\", my_list)\n",
        "\n",
        "# Iterating through the list\n",
        "for element in my_list:\n",
        "    print(\"List element:\", element)\n",
        "\n",
        "# List comprehension\n",
        "squares = [x**2 for x in range(6)]\n",
        "print(\"List of squares:\", squares)\n"
      ]
    },
    {
      "cell_type": "code",
      "source": [
        "\n",
        "my_tuple = (1, 2, 3, 4, 5)\n",
        "print(\"Original tuple:\", my_tuple)\n",
        "\n",
        "# Accessing elements\n",
        "print(\"First element:\", my_tuple[0])\n",
        "\n",
        "# Tuples are immutable, so you cannot modify elements\n",
        "# my_tuple[2] = 10  # This will raise an error\n",
        "\n",
        "# Creating a single element tuple\n",
        "single_element_tuple = (1,)\n",
        "print(\"Single element tuple:\", single_element_tuple)\n",
        "\n",
        "# Tuple unpacking\n",
        "a, b, c, d, e = my_tuple\n",
        "print(\"Unpacked values:\", a, b, c, d, e)\n"
      ],
      "metadata": {
        "colab": {
          "base_uri": "https://localhost:8080/"
        },
        "id": "D7l6GQkz8rLL",
        "outputId": "076e3e4d-496a-4c38-eb35-141411e9b47e"
      },
      "execution_count": 2,
      "outputs": [
        {
          "output_type": "stream",
          "name": "stdout",
          "text": [
            "Original tuple: (1, 2, 3, 4, 5)\n",
            "First element: 1\n",
            "Single element tuple: (1,)\n",
            "Unpacked values: 1 2 3 4 5\n"
          ]
        }
      ]
    },
    {
      "cell_type": "code",
      "source": [
        "\n",
        "my_dict = {'name': 'Alice', 'age': 25, 'city': 'New York'}\n",
        "print(\"Original dictionary:\", my_dict)\n",
        "\n",
        "# Accessing elements\n",
        "print(\"Name:\", my_dict['name'])\n",
        "\n",
        "# Modifying elements\n",
        "my_dict['age'] = 26\n",
        "print(\"Modified dictionary:\", my_dict)\n",
        "\n",
        "# Adding elements\n",
        "my_dict['email'] = 'alice@example.com'\n",
        "print(\"Dictionary after adding an element:\", my_dict)\n",
        "\n",
        "# Removing elements\n",
        "del my_dict['city']\n",
        "print(\"Dictionary after removing an element:\", my_dict)\n",
        "\n",
        "# Iterating through the dictionary\n",
        "for key, value in my_dict.items():\n",
        "    print(f\"Key: {key}, Value: {value}\")\n",
        "\n",
        "# Dictionary comprehension\n",
        "squared_numbers = {x: x**2 for x in range(6)}\n",
        "print(\"Dictionary of squared numbers:\", squared_numbers)\n"
      ],
      "metadata": {
        "colab": {
          "base_uri": "https://localhost:8080/"
        },
        "id": "V2guVG0W81KY",
        "outputId": "27c2dc7e-cf2f-4422-9bb5-efe5fb389462"
      },
      "execution_count": 3,
      "outputs": [
        {
          "output_type": "stream",
          "name": "stdout",
          "text": [
            "Original dictionary: {'name': 'Alice', 'age': 25, 'city': 'New York'}\n",
            "Name: Alice\n",
            "Modified dictionary: {'name': 'Alice', 'age': 26, 'city': 'New York'}\n",
            "Dictionary after adding an element: {'name': 'Alice', 'age': 26, 'city': 'New York', 'email': 'alice@example.com'}\n",
            "Dictionary after removing an element: {'name': 'Alice', 'age': 26, 'email': 'alice@example.com'}\n",
            "Key: name, Value: Alice\n",
            "Key: age, Value: 26\n",
            "Key: email, Value: alice@example.com\n",
            "Dictionary of squared numbers: {0: 0, 1: 1, 2: 4, 3: 9, 4: 16, 5: 25}\n"
          ]
        }
      ]
    },
    {
      "cell_type": "code",
      "source": [],
      "metadata": {
        "id": "4hmLtxNX84jO"
      },
      "execution_count": null,
      "outputs": []
    }
  ]
}